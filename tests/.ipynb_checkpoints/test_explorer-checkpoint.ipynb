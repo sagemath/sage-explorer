{
 "cells": [
  {
   "cell_type": "code",
   "execution_count": 6,
   "metadata": {},
   "outputs": [],
   "source": [
    "from ipywidgets import Label, GridBox, Layout"
   ]
  },
  {
   "cell_type": "code",
   "execution_count": 7,
   "metadata": {},
   "outputs": [
    {
     "data": {
      "application/vnd.jupyter.widget-view+json": {
       "model_id": "0829da51e9794812bbd05e2af781bdbe",
       "version_major": 2,
       "version_minor": 0
      },
      "text/plain": [
       "GridBox(children=(Label(value='1'), Label(value='2'), Label(value='3')), layout=Layout(grid_template_columns='…"
      ]
     },
     "metadata": {},
     "output_type": "display_data"
    }
   ],
   "source": [
    "GridBox([Label(\"1\"), Label(\"2\"), Label(\"3\")], layout=Layout(grid_template_columns='60% 40%'))"
   ]
  },
  {
   "cell_type": "code",
   "execution_count": 10,
   "metadata": {},
   "outputs": [
    {
     "data": {
      "application/vnd.jupyter.widget-view+json": {
       "model_id": "2648ebd4807d4c40b3da8ed2febf353f",
       "version_major": 2,
       "version_minor": 0
      },
      "text/plain": [
       "NewSageExplorer(children=(GridBox(children=(ExplorerTitle(children=(Title(value='Exploring: [[1, 3, 4, 7, 9, 1…"
      ]
     },
     "metadata": {},
     "output_type": "display_data"
    }
   ],
   "source": [
    "from new_sage_explorer import explore\n",
    "from sage.combinat.tableau import StandardTableaux\n",
    "t = StandardTableaux(15).random_element()\n",
    "explore(t)"
   ]
  }
 ],
 "metadata": {
  "kernelspec": {
   "display_name": "Python 3",
   "language": "python",
   "name": "python3"
  },
  "language_info": {
   "codemirror_mode": {
    "name": "ipython",
    "version": 3
   },
   "file_extension": ".py",
   "mimetype": "text/x-python",
   "name": "python",
   "nbconvert_exporter": "python",
   "pygments_lexer": "ipython3",
   "version": "3.6.6"
  }
 },
 "nbformat": 4,
 "nbformat_minor": 2
}
