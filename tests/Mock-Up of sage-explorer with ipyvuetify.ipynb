{
 "cells": [
  {
   "cell_type": "code",
   "execution_count": 1,
   "metadata": {},
   "outputs": [],
   "source": [
    "import ipywidgets\n",
    "import ipyvuetify as v"
   ]
  },
  {
   "cell_type": "code",
   "execution_count": 2,
   "metadata": {},
   "outputs": [
    {
     "data": {
      "application/vnd.jupyter.widget-view+json": {
       "model_id": "207665a821324e48a11e506d8381089b",
       "version_major": 2,
       "version_minor": 0
      },
      "text/plain": [
       "Layout(children=[Toolbar(children=[ToolbarTitle(children=['Exploring: (object)']), Spacer(), Menu(children=[Bt…"
      ]
     },
     "metadata": {},
     "output_type": "display_data"
    }
   ],
   "source": [
    "def top ( more_children=[], list_style=0 ):\n",
    "    list_styles = [\n",
    "        v.List(two_line=True,children=[\n",
    "            v.ListTile(children=[\n",
    "                v.ListTileAvatar(children=[v.Icon(children=['zoom_in'])]),\n",
    "                v.ListTileTitle(children=['Property Key '+str(i+1)]),\n",
    "                v.ListTileSubTitle(children=['Property Value '+str(i+1)])\n",
    "            ])\n",
    "            for i in [1,2,3]\n",
    "        ]),\n",
    "        v.Container(grid_list_xl=True,children=[\n",
    "            v.Layout(row=True,wrap=True,children=[\n",
    "                v.Flex(xs3=True,children=[v.Chip(children=['Property %d:'%(i+1)])]),\n",
    "                v.Flex(xs6=True,children=['Value here for property '+str(i+1)]),\n",
    "                v.Btn(icon=True,children=[v.Icon(children=['zoom_in'])]),\n",
    "            ])\n",
    "            for i in [1,2,3]\n",
    "        ])\n",
    "    ]\n",
    "    return v.Layout(column=True,children=[\n",
    "        v.Toolbar(class_='teal',children=[\n",
    "            v.ToolbarTitle(children=['Exploring: (object)']),\n",
    "            v.Spacer(),\n",
    "            v.Menu(offset_y=True,children=[\n",
    "                v.Btn(slot='activator',icon=True,children=[v.Icon(children=['settings'])]),\n",
    "                v.List(children=[\n",
    "                    v.ListTile(children=[v.ListTileTitle(children=['one'])]),\n",
    "                    v.ListTile(children=[v.ListTileTitle(children=['two'])]),\n",
    "                    v.ListTile(children=[v.ListTileTitle(children=['three'])]),\n",
    "                ])\n",
    "            ])\n",
    "        ]),\n",
    "        v.Container(grid_list_xl=True,children=[\n",
    "            v.Layout(row=True,wrap=True,children=[\n",
    "                v.Flex(xs9=True,children=[\n",
    "                    list_styles[list_style]\n",
    "                ]),\n",
    "                v.Flex(xs3=True,children=[\n",
    "                    v.Img(src='https://dummyimage.com/150x150/eee/000.png&text=Object+visualization+here')\n",
    "                ])\n",
    "            ])\n",
    "        ])\n",
    "    ] + more_children )\n",
    "top(list_style=1)"
   ]
  },
  {
   "cell_type": "code",
   "execution_count": 3,
   "metadata": {},
   "outputs": [],
   "source": [
    "func_runner = v.Select(outline=True,label='Functions related to (object)',items=[\n",
    "#     v.ListTile(children=[\n",
    "#         v.ListTileAvatar(children=[v.Icon(children=['play_arrow'])]),\n",
    "#         v.ListTileTitle(children=['Function name '+str(i+1)]),\n",
    "#         v.ListTileSubTitle(children=['Brief help information for function '+str(i+1)])\n",
    "#     ])\n",
    "    f'Function name {i+1} (with some brief help about it)'\n",
    "    for i in [1,2,3]\n",
    "])"
   ]
  },
  {
   "cell_type": "code",
   "execution_count": 4,
   "metadata": {
    "scrolled": false
   },
   "outputs": [
    {
     "data": {
      "application/vnd.jupyter.widget-view+json": {
       "model_id": "62d2edcb82c6402ab974c3e5eb4d3c3e",
       "version_major": 2,
       "version_minor": 0
      },
      "text/plain": [
       "Layout(children=[Toolbar(children=[ToolbarTitle(children=['Exploring: (object)']), Spacer(), Menu(children=[Bt…"
      ]
     },
     "metadata": {},
     "output_type": "display_data"
    }
   ],
   "source": [
    "top([\n",
    "    v.Layout(row=True,children=[\n",
    "        v.Flex(xs12=True,children=[\n",
    "            func_runner\n",
    "        ])\n",
    "    ])\n",
    "])"
   ]
  },
  {
   "cell_type": "code",
   "execution_count": 5,
   "metadata": {},
   "outputs": [
    {
     "data": {
      "text/plain": [
       "'In[5]'"
      ]
     },
     "execution_count": 5,
     "metadata": {},
     "output_type": "execute_result"
    }
   ],
   "source": [
    "In[5]"
   ]
  },
  {
   "cell_type": "code",
   "execution_count": 6,
   "metadata": {},
   "outputs": [
    {
     "data": {
      "text/plain": [
       "'top([\\n    v.Layout(row=True,children=[\\n        v.Flex(xs12=True,children=[\\n            func_runner\\n        ])\\n    ])\\n])'"
      ]
     },
     "execution_count": 6,
     "metadata": {},
     "output_type": "execute_result"
    }
   ],
   "source": [
    "In[4]"
   ]
  }
 ],
 "metadata": {
  "kernelspec": {
   "display_name": "Python 3",
   "language": "python",
   "name": "python3"
  },
  "language_info": {
   "codemirror_mode": {
    "name": "ipython",
    "version": 3
   },
   "file_extension": ".py",
   "mimetype": "text/x-python",
   "name": "python",
   "nbconvert_exporter": "python",
   "pygments_lexer": "ipython3",
   "version": "3.6.6"
  }
 },
 "nbformat": 4,
 "nbformat_minor": 2
}
