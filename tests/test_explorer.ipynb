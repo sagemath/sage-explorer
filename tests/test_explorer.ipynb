{
 "cells": [
  {
   "cell_type": "code",
   "execution_count": 1,
   "metadata": {},
   "outputs": [],
   "source": [
    "from ipywidgets import Label, GridBox, Layout"
   ]
  },
  {
   "cell_type": "code",
   "execution_count": 2,
   "metadata": {},
   "outputs": [
    {
     "data": {
      "application/vnd.jupyter.widget-view+json": {
       "model_id": "6f233cb931184847804bad0019098b1a",
       "version_major": 2,
       "version_minor": 0
      },
      "text/plain": [
       "GridBox(children=(Label(value='1'), Label(value='2'), Label(value='3')), layout=Layout(grid_template_columns='…"
      ]
     },
     "metadata": {},
     "output_type": "display_data"
    }
   ],
   "source": [
    "GridBox([Label(\"1\"), Label(\"2\"), Label(\"3\")], layout=Layout(grid_template_columns='60% 40%'))"
   ]
  },
  {
   "cell_type": "code",
   "execution_count": 3,
   "metadata": {},
   "outputs": [
    {
     "data": {
      "application/vnd.jupyter.widget-view+json": {
       "model_id": "cdbe4667f46a447fabf559b1840502a6",
       "version_major": 2,
       "version_minor": 0
      },
      "text/plain": [
       "ExplorableValue(value='ok')"
      ]
     },
     "metadata": {},
     "output_type": "display_data"
    }
   ],
   "source": [
    "from new_sage_explorer.new_sage_explorer import ExplorableValue\n",
    "#from ipywidgets import HTML\n",
    "#HTML(\"ok\")\n",
    "ExplorableValue(\"ok\")"
   ]
  },
  {
   "cell_type": "code",
   "execution_count": 4,
   "metadata": {},
   "outputs": [
    {
     "data": {
      "application/vnd.jupyter.widget-view+json": {
       "model_id": "537ac575ec2a4d55aecc057300f049b8",
       "version_major": 2,
       "version_minor": 0
      },
      "text/plain": [
       "NewSageExplorer(children=(GridBox(children=(ExplorerTitle(children=(Title(value='Exploring: [[1, 3, 6, 7, 9, 1…"
      ]
     },
     "metadata": {},
     "output_type": "display_data"
    }
   ],
   "source": [
    "from new_sage_explorer import explore\n",
    "from sage.combinat.tableau import StandardTableaux\n",
    "t = StandardTableaux(15).random_element()\n",
    "explore(t)"
   ]
  },
  {
   "cell_type": "code",
   "execution_count": null,
   "metadata": {},
   "outputs": [],
   "source": []
  }
 ],
 "metadata": {
  "kernelspec": {
   "display_name": "Python 3",
   "language": "python",
   "name": "python3"
  },
  "language_info": {
   "codemirror_mode": {
    "name": "ipython",
    "version": 3
   },
   "file_extension": ".py",
   "mimetype": "text/x-python",
   "name": "python",
   "nbconvert_exporter": "python",
   "pygments_lexer": "ipython3",
   "version": "3.6.6"
  }
 },
 "nbformat": 4,
 "nbformat_minor": 2
}
