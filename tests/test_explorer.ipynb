{
 "cells": [
  {
   "cell_type": "code",
   "execution_count": 1,
   "metadata": {},
   "outputs": [],
   "source": [
    "from ipywidgets import Label, GridBox, Layout"
   ]
  },
  {
   "cell_type": "code",
   "execution_count": 2,
   "metadata": {},
   "outputs": [
    {
     "data": {
      "application/vnd.jupyter.widget-view+json": {
       "model_id": "e5b0c58ee0294f64a0f44326c1ba44a2",
       "version_major": 2,
       "version_minor": 0
      },
      "text/plain": [
       "GridBox(children=(Label(value='1'), Label(value='2'), Label(value='3')), layout=Layout(grid_template_columns='…"
      ]
     },
     "metadata": {},
     "output_type": "display_data"
    }
   ],
   "source": [
    "GridBox([Label(\"1\"), Label(\"2\"), Label(\"3\")], layout=Layout(grid_template_columns='60% 40%'))"
   ]
  },
  {
   "cell_type": "code",
   "execution_count": 3,
   "metadata": {},
   "outputs": [
    {
     "data": {
      "application/vnd.jupyter.widget-view+json": {
       "model_id": "149e80596d304ea4ad2e6f763daa3ab1",
       "version_major": 2,
       "version_minor": 0
      },
      "text/plain": [
       "NewSageExplorer(children=(GridBox(children=(ExplorerTitle(children=(Title(value='Exploring: [[1, 3, 4, 7, 10, …"
      ]
     },
     "metadata": {},
     "output_type": "display_data"
    }
   ],
   "source": [
    "from new_sage_explorer import explore\n",
    "from sage.combinat.tableau import StandardTableaux\n",
    "t = StandardTableaux(15).random_element()\n",
    "explore(t)"
   ]
  }
 ],
 "metadata": {
  "kernelspec": {
   "display_name": "Python 3",
   "language": "python",
   "name": "python3"
  },
  "language_info": {
   "codemirror_mode": {
    "name": "ipython",
    "version": 3
   },
   "file_extension": ".py",
   "mimetype": "text/x-python",
   "name": "python",
   "nbconvert_exporter": "python",
   "pygments_lexer": "ipython3",
   "version": "3.6.6"
  }
 },
 "nbformat": 4,
 "nbformat_minor": 2
}
