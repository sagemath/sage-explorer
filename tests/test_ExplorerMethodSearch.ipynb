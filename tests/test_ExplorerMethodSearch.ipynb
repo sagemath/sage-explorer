{
 "cells": [
  {
   "cell_type": "code",
   "execution_count": null,
   "metadata": {},
   "outputs": [],
   "source": [
    "from ipywidgets import Combobox\n",
    "from traitlets import Any\n",
    "class ExplorerMethodSearchLoc(Combobox):\n",
    "    r\"\"\"                                                                                                                                                      \n",
    "    A widget to search a method                                                                                                                               \n",
    "    \"\"\"\n",
    "    value = Any()\n",
    "\n",
    "    def __init__(self, obj):\n",
    "        super(ExplorerMethodSearchLoc, self).__init__()\n",
    "        self.value = obj\n",
    "\n"
   ]
  },
  {
   "cell_type": "code",
   "execution_count": null,
   "metadata": {},
   "outputs": [],
   "source": [
    "t = StandardTableaux(5).random_element()\n",
    "ExplorerMethodSearchLoc(t)"
   ]
  },
  {
   "cell_type": "code",
   "execution_count": null,
   "metadata": {},
   "outputs": [],
   "source": [
    "from new_sage_explorer.new_sage_explorer import ExplorerMethodSearch\n",
    "ExplorerMethodSearch(t)"
   ]
  }
 ],
 "metadata": {
  "kernelspec": {
   "display_name": "SageMath 8.6",
   "language": "",
   "name": "sagemath"
  },
  "language_info": {
   "codemirror_mode": {
    "name": "ipython",
    "version": 3
   },
   "file_extension": ".py",
   "mimetype": "text/x-python",
   "name": "python",
   "nbconvert_exporter": "python",
   "pygments_lexer": "ipython3",
   "version": "3.6.6"
  }
 },
 "nbformat": 4,
 "nbformat_minor": 2
}
