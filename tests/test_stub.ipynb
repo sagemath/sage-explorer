{
 "cells": [
  {
   "cell_type": "code",
   "execution_count": null,
   "metadata": {},
   "outputs": [],
   "source": [
    "from sage_explorer.sage_explorer import ExplorerTitle, ExplorerVisual\n",
    "from sage_explorer import explore\n",
    "from sage.combinat.tableau import StandardTableaux\n",
    "t = StandardTableaux(15).random_element()\n",
    "w = explore(t, components={'titlebox': ExplorerTitle, 'visualbox': ExplorerVisual})\n",
    "w"
   ]
  },
  {
   "cell_type": "code",
   "execution_count": null,
   "metadata": {},
   "outputs": [],
   "source": [
    "from sage_explorer.sage_explorer import ExplorerDescription, ExplorerProperties\n",
    "w1 = explore(t, components={'descriptionbox': ExplorerDescription, 'propsbox': ExplorerProperties})\n",
    "w1"
   ]
  },
  {
   "cell_type": "code",
   "execution_count": null,
   "metadata": {},
   "outputs": [],
   "source": [
    "from sage_explorer.sage_explorer import ExplorerMethodSearch, ExplorerArgs, ExplorerOutput\n",
    "w2 = explore(t, components={'searchbox': ExplorerMethodSearch, 'argsbox': ExplorerArgs, 'outputbox': ExplorerOutput})\n",
    "w2"
   ]
  },
  {
   "cell_type": "code",
   "execution_count": null,
   "metadata": {},
   "outputs": [],
   "source": [
    "from sage_explorer.sage_explorer import ExplorerOutput, ExplorerCodeCell\n",
    "w3 = explore(t, components={'outputbox': ExplorerOutput, 'codebox': ExplorerCodeCell})\n",
    "w3"
   ]
  }
 ],
 "metadata": {
  "kernelspec": {
   "display_name": "SageMath 8.9.rc0",
   "language": "sage",
   "name": "sagemath"
  },
  "language_info": {
   "codemirror_mode": {
    "name": "ipython",
    "version": 3
   },
   "file_extension": ".py",
   "mimetype": "text/x-python",
   "name": "python",
   "nbconvert_exporter": "python",
   "pygments_lexer": "ipython3",
   "version": "3.7.3"
  }
 },
 "nbformat": 4,
 "nbformat_minor": 2
}
