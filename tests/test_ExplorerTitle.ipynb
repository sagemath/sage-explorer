{
 "cells": [
  {
   "cell_type": "code",
   "execution_count": null,
   "metadata": {},
   "outputs": [],
   "source": [
    "from sage.misc.sphinxify import sphinxify\n",
    "#from sagenb.misc.sphinxify import sphinxify\n",
    "s = \"ok\" #Partition.__doc__\n",
    "sphinxify(s)"
   ]
  },
  {
   "cell_type": "code",
   "execution_count": null,
   "metadata": {},
   "outputs": [],
   "source": [
    "from ipywidgets import *\n",
    "class ExplorerTitleLoc(Box):\n",
    "    def __init__(self, obj):\n",
    "        s = \"Exploring: %s\" % obj._repr_()\n",
    "        s = \"<h2>\" + sphinxify(s) + \"</h2>\"\n",
    "        l = Layout(width='100%', border='1px solid red', padding='12px', margin='0')\n",
    "        super(ExplorerTitleLoc, self).__init__()\n",
    "        self.value = obj\n",
    "        self.children = (HTMLMath(s, layout=l),)"
   ]
  },
  {
   "cell_type": "code",
   "execution_count": null,
   "metadata": {},
   "outputs": [],
   "source": [
    "t = StandardTableaux(5).random_element()\n",
    "#ExplorerTitleLoc(t)\n",
    "sphinxify(str(t))"
   ]
  },
  {
   "cell_type": "code",
   "execution_count": null,
   "metadata": {},
   "outputs": [],
   "source": [
    "s = t._repr_()\n",
    "l = Layout(width='100%', border='1px solid red')\n",
    "HTMLMath(layout=l)"
   ]
  },
  {
   "cell_type": "code",
   "execution_count": null,
   "metadata": {},
   "outputs": [],
   "source": [
    "css_lines = []\n",
    "css_lines.append(\".explorer-title {background-color: teal; font-size: 150%}\")\n",
    "HTML(\"<style>%s</style>\" % '\\n'.join(css_lines))\n"
   ]
  },
  {
   "cell_type": "code",
   "execution_count": null,
   "metadata": {},
   "outputs": [],
   "source": [
    "HTML('<div class=\"explorer-title\">OK</div>')"
   ]
  },
  {
   "cell_type": "code",
   "execution_count": null,
   "metadata": {},
   "outputs": [],
   "source": [
    "from new_sage_explorer.new_sage_explorer import ExplorerTitle\n",
    "ExplorerTitle(s)"
   ]
  }
 ],
 "metadata": {
  "kernelspec": {
   "display_name": "SageMath 8.6",
   "language": "",
   "name": "sagemath"
  },
  "language_info": {
   "codemirror_mode": {
    "name": "ipython",
    "version": 3
   },
   "file_extension": ".py",
   "mimetype": "text/x-python",
   "name": "python",
   "nbconvert_exporter": "python",
   "pygments_lexer": "ipython3",
   "version": "3.6.6"
  }
 },
 "nbformat": 4,
 "nbformat_minor": 2
}
