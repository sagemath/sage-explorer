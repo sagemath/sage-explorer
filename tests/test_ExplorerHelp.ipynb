{
 "cells": [
  {
   "cell_type": "code",
   "execution_count": null,
   "metadata": {},
   "outputs": [],
   "source": [
    "from sage.misc.sphinxify import sphinxify\n",
    "#from sagenb.misc.sphinxify import sphinxify\n",
    "#s = Partition.__doc__\n",
    "from sage.symbolic.constants import pi as c_pi\n",
    "s = c_pi._latex_()\n",
    "s\n",
    "ss = sphinxify(s)"
   ]
  },
  {
   "cell_type": "code",
   "execution_count": null,
   "metadata": {},
   "outputs": [],
   "source": [
    "from ipywidgets import *\n",
    "#HTML(ss)\n",
    "HTMLMath(\"$$%s$$\" % s)"
   ]
  },
  {
   "cell_type": "code",
   "execution_count": null,
   "metadata": {},
   "outputs": [],
   "source": [
    "h = '<math xmlns=\"http://www.w3.org/1998/Math/MathML\">$$ ' + s + ' $$</math>'\n",
    "HTML(h)"
   ]
  },
  {
   "cell_type": "code",
   "execution_count": null,
   "metadata": {},
   "outputs": [],
   "source": [
    "from new_sage_explorer.new_sage_explorer import ExplorerHelp\n",
    "t = StandardTableaux(5).random_element()\n",
    "w = ExplorerHelp(t)\n",
    "w"
   ]
  },
  {
   "cell_type": "code",
   "execution_count": null,
   "metadata": {},
   "outputs": [],
   "source": [
    "w.children[0].value"
   ]
  }
 ],
 "metadata": {
  "kernelspec": {
   "display_name": "SageMath 8.6",
   "language": "",
   "name": "sagemath"
  },
  "language_info": {
   "codemirror_mode": {
    "name": "ipython",
    "version": 3
   },
   "file_extension": ".py",
   "mimetype": "text/x-python",
   "name": "python",
   "nbconvert_exporter": "python",
   "pygments_lexer": "ipython3",
   "version": "3.6.6"
  }
 },
 "nbformat": 4,
 "nbformat_minor": 2
}
