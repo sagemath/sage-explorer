{
 "cells": [
  {
   "cell_type": "code",
   "execution_count": null,
   "metadata": {},
   "outputs": [],
   "source": [
    "from sage_explorer import explore\n",
    "w = explore(42)\n",
    "w"
   ]
  },
  {
   "cell_type": "code",
   "execution_count": 6,
   "metadata": {},
   "outputs": [
    {
     "data": {
      "text/plain": [
       "{'__class__': <sage_explorer.explored_member.ExploredMember at 0x7f208adacc18>,\n",
       " '__contains__': <sage_explorer.explored_member.ExploredMember at 0x7f208adacbe0>,\n",
       " '__delattr__': <sage_explorer.explored_member.ExploredMember at 0x7f208adac780>,\n",
       " '__dict__': <sage_explorer.explored_member.ExploredMember at 0x7f208adaccf8>,\n",
       " '__dir__': <sage_explorer.explored_member.ExploredMember at 0x7f208adacc50>,\n",
       " '__doc__': <sage_explorer.explored_member.ExploredMember at 0x7f208adac5f8>,\n",
       " '__eq__': <sage_explorer.explored_member.ExploredMember at 0x7f208adacb00>,\n",
       " '__format__': <sage_explorer.explored_member.ExploredMember at 0x7f208adacb38>,\n",
       " '__ge__': <sage_explorer.explored_member.ExploredMember at 0x7f208adacb70>,\n",
       " '__getattribute__': <sage_explorer.explored_member.ExploredMember at 0x7f208adacd68>,\n",
       " '__getitem__': <sage_explorer.explored_member.ExploredMember at 0x7f208adacda0>,\n",
       " '__gt__': <sage_explorer.explored_member.ExploredMember at 0x7f208adacdd8>,\n",
       " '__hash__': <sage_explorer.explored_member.ExploredMember at 0x7f208adace10>,\n",
       " '__init__': <sage_explorer.explored_member.ExploredMember at 0x7f208adace48>,\n",
       " '__init_subclass__': <sage_explorer.explored_member.ExploredMember at 0x7f208adace80>,\n",
       " '__iter__': <sage_explorer.explored_member.ExploredMember at 0x7f208adaceb8>,\n",
       " '__le__': <sage_explorer.explored_member.ExploredMember at 0x7f208adacef0>,\n",
       " '__len__': <sage_explorer.explored_member.ExploredMember at 0x7f208adacf28>,\n",
       " '__lt__': <sage_explorer.explored_member.ExploredMember at 0x7f208adacf60>,\n",
       " '__module__': <sage_explorer.explored_member.ExploredMember at 0x7f208adacf98>,\n",
       " '__ne__': <sage_explorer.explored_member.ExploredMember at 0x7f208adacfd0>,\n",
       " '__new__': <sage_explorer.explored_member.ExploredMember at 0x7f208adbf048>,\n",
       " '__reduce__': <sage_explorer.explored_member.ExploredMember at 0x7f208adbf080>,\n",
       " '__reduce_ex__': <sage_explorer.explored_member.ExploredMember at 0x7f208adbf0b8>,\n",
       " '__repr__': <sage_explorer.explored_member.ExploredMember at 0x7f208adbf0f0>,\n",
       " '__setattr__': <sage_explorer.explored_member.ExploredMember at 0x7f208adbf128>,\n",
       " '__sizeof__': <sage_explorer.explored_member.ExploredMember at 0x7f208adbf160>,\n",
       " '__str__': <sage_explorer.explored_member.ExploredMember at 0x7f208adbf198>,\n",
       " '__subclasshook__': <sage_explorer.explored_member.ExploredMember at 0x7f208adbf1d0>,\n",
       " 'add_cycle': <sage_explorer.explored_member.ExploredMember at 0x7f208adbf208>,\n",
       " 'add_edge': <sage_explorer.explored_member.ExploredMember at 0x7f208adbf240>,\n",
       " 'add_edges_from': <sage_explorer.explored_member.ExploredMember at 0x7f208adbf278>,\n",
       " 'add_node': <sage_explorer.explored_member.ExploredMember at 0x7f208adbf2b0>,\n",
       " 'add_nodes_from': <sage_explorer.explored_member.ExploredMember at 0x7f208adbf2e8>,\n",
       " 'add_path': <sage_explorer.explored_member.ExploredMember at 0x7f208adbf320>,\n",
       " 'add_star': <sage_explorer.explored_member.ExploredMember at 0x7f208adbf358>,\n",
       " 'add_weighted_edges_from': <sage_explorer.explored_member.ExploredMember at 0x7f208adbf390>,\n",
       " 'adj': <sage_explorer.explored_member.ExploredMember at 0x7f208adbf3c8>,\n",
       " 'adjacency': <sage_explorer.explored_member.ExploredMember at 0x7f208adbf400>,\n",
       " 'adjlist_inner_dict_factory': <sage_explorer.explored_member.ExploredMember at 0x7f208adbf438>,\n",
       " 'adjlist_outer_dict_factory': <sage_explorer.explored_member.ExploredMember at 0x7f208adbf470>,\n",
       " 'clear': <sage_explorer.explored_member.ExploredMember at 0x7f208adbf4a8>,\n",
       " 'copy': <sage_explorer.explored_member.ExploredMember at 0x7f208adbf4e0>,\n",
       " 'degree': <sage_explorer.explored_member.ExploredMember at 0x7f208adbf518>,\n",
       " 'edge_attr_dict_factory': <sage_explorer.explored_member.ExploredMember at 0x7f208adbf550>,\n",
       " 'edge_subgraph': <sage_explorer.explored_member.ExploredMember at 0x7f208adbf588>,\n",
       " 'edges': <sage_explorer.explored_member.ExploredMember at 0x7f208adbf5c0>,\n",
       " 'fresh_copy': <sage_explorer.explored_member.ExploredMember at 0x7f208adbf5f8>,\n",
       " 'get_edge_data': <sage_explorer.explored_member.ExploredMember at 0x7f208adbf630>,\n",
       " 'has_edge': <sage_explorer.explored_member.ExploredMember at 0x7f208adbf668>,\n",
       " 'has_node': <sage_explorer.explored_member.ExploredMember at 0x7f208adbf6a0>,\n",
       " 'has_predecessor': <sage_explorer.explored_member.ExploredMember at 0x7f208adbf6d8>,\n",
       " 'has_successor': <sage_explorer.explored_member.ExploredMember at 0x7f208adbf710>,\n",
       " 'in_degree': <sage_explorer.explored_member.ExploredMember at 0x7f208adbf748>,\n",
       " 'in_edges': <sage_explorer.explored_member.ExploredMember at 0x7f208adbf780>,\n",
       " 'is_directed': <sage_explorer.explored_member.ExploredMember at 0x7f208adbf7b8>,\n",
       " 'is_multigraph': <sage_explorer.explored_member.ExploredMember at 0x7f208adbf7f0>,\n",
       " 'name': <sage_explorer.explored_member.ExploredMember at 0x7f208adbf828>,\n",
       " 'nbunch_iter': <sage_explorer.explored_member.ExploredMember at 0x7f208adbf860>,\n",
       " 'neighbors': <sage_explorer.explored_member.ExploredMember at 0x7f208adbf898>,\n",
       " 'node': <sage_explorer.explored_member.ExploredMember at 0x7f208adbf8d0>,\n",
       " 'node_dict_factory': <sage_explorer.explored_member.ExploredMember at 0x7f208adbf908>,\n",
       " 'nodes': <sage_explorer.explored_member.ExploredMember at 0x7f208adbf940>,\n",
       " 'nodes_with_selfloops': <sage_explorer.explored_member.ExploredMember at 0x7f208adbf978>,\n",
       " 'number_of_edges': <sage_explorer.explored_member.ExploredMember at 0x7f208adbf9b0>,\n",
       " 'number_of_nodes': <sage_explorer.explored_member.ExploredMember at 0x7f208adbf9e8>,\n",
       " 'number_of_selfloops': <sage_explorer.explored_member.ExploredMember at 0x7f208adbfa20>,\n",
       " 'order': <sage_explorer.explored_member.ExploredMember at 0x7f208adbfa58>,\n",
       " 'out_degree': <sage_explorer.explored_member.ExploredMember at 0x7f208adbfa90>,\n",
       " 'out_edges': <sage_explorer.explored_member.ExploredMember at 0x7f208adbfac8>,\n",
       " 'pred': <sage_explorer.explored_member.ExploredMember at 0x7f208adbfb00>,\n",
       " 'predecessors': <sage_explorer.explored_member.ExploredMember at 0x7f208adbfb38>,\n",
       " 'remove_edge': <sage_explorer.explored_member.ExploredMember at 0x7f208adbfb70>,\n",
       " 'remove_edges_from': <sage_explorer.explored_member.ExploredMember at 0x7f208adbfba8>,\n",
       " 'remove_node': <sage_explorer.explored_member.ExploredMember at 0x7f208adbfbe0>,\n",
       " 'remove_nodes_from': <sage_explorer.explored_member.ExploredMember at 0x7f208adbfc18>,\n",
       " 'reverse': <sage_explorer.explored_member.ExploredMember at 0x7f208adbfc50>,\n",
       " 'selfloop_edges': <sage_explorer.explored_member.ExploredMember at 0x7f208adbfc88>,\n",
       " 'size': <sage_explorer.explored_member.ExploredMember at 0x7f208adbfcc0>,\n",
       " 'subgraph': <sage_explorer.explored_member.ExploredMember at 0x7f208adbfcf8>,\n",
       " 'succ': <sage_explorer.explored_member.ExploredMember at 0x7f208adbfd30>,\n",
       " 'successors': <sage_explorer.explored_member.ExploredMember at 0x7f208adbfd68>,\n",
       " 'to_directed': <sage_explorer.explored_member.ExploredMember at 0x7f208adbfda0>,\n",
       " 'to_directed_class': <sage_explorer.explored_member.ExploredMember at 0x7f208adbfdd8>,\n",
       " 'to_undirected': <sage_explorer.explored_member.ExploredMember at 0x7f208adbfe10>,\n",
       " 'to_undirected_class': <sage_explorer.explored_member.ExploredMember at 0x7f208adbfe48>,\n",
       " 'update': <sage_explorer.explored_member.ExploredMember at 0x7f208adbfe80>}"
      ]
     },
     "execution_count": 6,
     "metadata": {},
     "output_type": "execute_result"
    }
   ],
   "source": [
    "w.searchbox.members_dict"
   ]
  },
  {
   "cell_type": "code",
   "execution_count": null,
   "metadata": {},
   "outputs": [],
   "source": [
    "#import sage.all\n",
    "#from sage.misc.sageinspect import sage_getargspec as getargspec\n",
    "#getargspec?"
   ]
  },
  {
   "cell_type": "code",
   "execution_count": 5,
   "metadata": {},
   "outputs": [
    {
     "data": {
      "application/vnd.jupyter.widget-view+json": {
       "model_id": "d1e5a6792df742aab3ffd7ccdb32d86d",
       "version_major": 2,
       "version_minor": 0
      },
      "text/plain": [
       "SageExplorer(children=(VBox(children=(ExplorerTitle(children=(MathTitle(value='Exploring: ', _dom_classes=('ti…"
      ]
     },
     "metadata": {},
     "output_type": "display_data"
    }
   ],
   "source": [
    "from networkx import DiGraph\n",
    "G = DiGraph()\n",
    "G.add_nodes_from([1,2,3])\n",
    "from sage_explorer import explore\n",
    "w = explore(G)\n",
    "w"
   ]
  }
 ],
 "metadata": {
  "kernelspec": {
   "display_name": "Python 3",
   "language": "python",
   "name": "python3"
  },
  "language_info": {
   "codemirror_mode": {
    "name": "ipython",
    "version": 3
   },
   "file_extension": ".py",
   "mimetype": "text/x-python",
   "name": "python",
   "nbconvert_exporter": "python",
   "pygments_lexer": "ipython3",
   "version": "3.7.3"
  }
 },
 "nbformat": 4,
 "nbformat_minor": 2
}
